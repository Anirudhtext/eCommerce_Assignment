{
 "cells": [
  {
   "cell_type": "code",
   "execution_count": 1,
   "id": "f7981856",
   "metadata": {},
   "outputs": [],
   "source": [
    "import pandas as pd\n",
    "import numpy as np\n",
    "from sklearn.preprocessing import StandardScaler, OneHotEncoder\n",
    "from sklearn.metrics.pairwise import cosine_similarity\n"
   ]
  },
  {
   "cell_type": "code",
   "execution_count": 2,
   "id": "82e0a81f",
   "metadata": {},
   "outputs": [],
   "source": [
    "#Load the datasets\n",
    "customers = pd.read_csv('Customers.csv')\n",
    "products = pd.read_csv('Products.csv')\n",
    "transactions = pd.read_csv('Transactions.csv')"
   ]
  },
  {
   "cell_type": "code",
   "execution_count": 3,
   "id": "acc123d0",
   "metadata": {},
   "outputs": [],
   "source": [
    "# Step 2: Merge the datasets\n",
    "# Merge transactions with customers\n",
    "transactions_customers = transactions.merge(customers, on='CustomerID', how='left')\n",
    "\n",
    "# Merge with products\n",
    "full_data = transactions_customers.merge(products, on='ProductID', how='left')\n"
   ]
  },
  {
   "cell_type": "code",
   "execution_count": 4,
   "id": "a53845e5",
   "metadata": {},
   "outputs": [],
   "source": [
    "# Step 3: Aggregate transaction data by customer\n",
    "customer_metrics = full_data.groupby('CustomerID').agg(\n",
    "    TotalSpend=('TotalValue', 'sum'),\n",
    "    AvgSpend=('TotalValue', 'mean'),\n",
    "    TotalTransactions=('TransactionID', 'count'),\n",
    "    ProductDiversity=('ProductID', 'nunique')\n",
    ").reset_index()"
   ]
  },
  {
   "cell_type": "code",
   "execution_count": 5,
   "id": "5723cd56",
   "metadata": {},
   "outputs": [
    {
     "name": "stderr",
     "output_type": "stream",
     "text": [
      "C:\\Users\\Administrator\\anaconda3\\Lib\\site-packages\\sklearn\\preprocessing\\_encoders.py:972: FutureWarning: `sparse` was renamed to `sparse_output` in version 1.2 and will be removed in 1.4. `sparse_output` is ignored unless you leave `sparse` to its default value.\n",
      "  warnings.warn(\n"
     ]
    }
   ],
   "source": [
    "# Step 4: Encode categorical features\n",
    "# One-hot encode the 'Region' column\n",
    "encoder = OneHotEncoder(sparse=False, handle_unknown='ignore')\n",
    "region_encoded = encoder.fit_transform(customers[['Region']])\n",
    "region_encoded_df = pd.DataFrame(region_encoded, columns=encoder.get_feature_names_out(['Region']))\n",
    "\n",
    "# Merge encoded regions with customer metrics\n",
    "customer_profile = customer_metrics.merge(customers[['CustomerID']], on='CustomerID')\n",
    "customer_profile = pd.concat([customer_profile, region_encoded_df], axis=1)"
   ]
  },
  {
   "cell_type": "code",
   "execution_count": 6,
   "id": "caf82319",
   "metadata": {},
   "outputs": [],
   "source": [
    "# Step 5: Normalize numerical features\n",
    "scaler = StandardScaler()\n",
    "numerical_features = ['TotalSpend', 'AvgSpend', 'TotalTransactions', 'ProductDiversity']\n",
    "customer_profile[numerical_features] = scaler.fit_transform(customer_profile[numerical_features])"
   ]
  },
  {
   "cell_type": "code",
   "execution_count": 11,
   "id": "b5883bd4",
   "metadata": {},
   "outputs": [],
   "source": [
    "# Step 6: Compute similarity matrix\n",
    "# Extract features for similarity calculation\n",
    "# Ensure only numerical columns are included\n",
    "feature_matrix = customer_profile.drop(columns=['CustomerID'])\n",
    "\n",
    "# Handle missing values, if any\n",
    "feature_matrix = feature_matrix.fillna(0)  # Replace NaN with 0\n",
    "\n",
    "# Check that all columns are numeric\n",
    "feature_matrix = feature_matrix.select_dtypes(include=[np.number])\n",
    "\n",
    "# Compute cosine similarity\n",
    "similarity_matrix = cosine_similarity(feature_matrix)\n"
   ]
  },
  {
   "cell_type": "code",
   "execution_count": 10,
   "id": "974e354f",
   "metadata": {},
   "outputs": [],
   "source": [
    "# Step 7: Find top 3 lookalike customers\n",
    "lookalikes = {}\n",
    "customer_ids = customer_profile['CustomerID'].tolist()\n",
    "\n",
    "for i, customer_id in enumerate(customer_ids[:20]):  # Only process the first 20 customers\n",
    "    similarities = list(enumerate(similarity_matrix[i]))\n",
    "    similarities = sorted(similarities, key=lambda x: x[1], reverse=True)  # Sort by similarity score\n",
    "    top_lookalikes = [\n",
    "        (customer_ids[idx], round(score, 4))\n",
    "        for idx, score in similarities if idx != i  # Exclude self-similarity\n",
    "    ][:3]  # Take top 3\n",
    "    lookalikes[customer_id] = top_lookalikes"
   ]
  },
  {
   "cell_type": "code",
   "execution_count": 12,
   "id": "73c6f0bf",
   "metadata": {},
   "outputs": [
    {
     "name": "stdout",
     "output_type": "stream",
     "text": [
      "Lookalike results saved to Anirudh_Mekala_Lookalike.csv\n"
     ]
    }
   ],
   "source": [
    "# Step 8: Save results to CSV\n",
    "lookalike_results = pd.DataFrame({\n",
    "    'CustomerID': lookalikes.keys(),\n",
    "    'Recommendations': [str(recs) for recs in lookalikes.values()]\n",
    "})\n",
    "\n",
    "lookalike_results.to_csv('Anrudh_Mekala_Lookalike.csv', index=False)\n",
    "\n",
    "print(\"Lookalike results saved to Anirudh_Mekala_Lookalike.csv\")"
   ]
  },
  {
   "cell_type": "code",
   "execution_count": null,
   "id": "65fc3353",
   "metadata": {},
   "outputs": [],
   "source": []
  }
 ],
 "metadata": {
  "kernelspec": {
   "display_name": "Python 3 (ipykernel)",
   "language": "python",
   "name": "python3"
  },
  "language_info": {
   "codemirror_mode": {
    "name": "ipython",
    "version": 3
   },
   "file_extension": ".py",
   "mimetype": "text/x-python",
   "name": "python",
   "nbconvert_exporter": "python",
   "pygments_lexer": "ipython3",
   "version": "3.11.5"
  }
 },
 "nbformat": 4,
 "nbformat_minor": 5
}
